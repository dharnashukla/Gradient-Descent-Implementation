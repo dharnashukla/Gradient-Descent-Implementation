{
 "cells": [
  {
   "cell_type": "code",
   "execution_count": 1,
   "metadata": {
    "colab": {},
    "colab_type": "code",
    "id": "R3b3LdtMHN4O"
   },
   "outputs": [],
   "source": [
    "import numpy as np\n",
    "import matplotlib.pyplot as plt\n",
    "import glob\n",
    "import os\n",
    "import random\n",
    "import pandas as pd\n",
    "import sys\n",
    "import math \n",
    "import torch \n",
    "from torch.autograd import Variable\n",
    "import torch.nn as nn"
   ]
  },
  {
   "cell_type": "code",
   "execution_count": 2,
   "metadata": {
    "colab": {},
    "colab_type": "code",
    "id": "cLTdJGSMHoYB"
   },
   "outputs": [],
   "source": [
    "# function for getting data \n",
    "\n",
    "def getData(N,sigma):\n",
    "    distribution_range = torch.distributions.uniform.Uniform(0,1)\n",
    "    Z = torch.distributions.normal.Normal(0, sigma)\n",
    "    X = distribution_range.sample(torch.Size([N])).unsqueeze(1)\n",
    "    Y = torch.cos(2*math.pi*X)+Z.sample(torch.Size([N])).unsqueeze(1)\n",
    "    return X,Y    "
   ]
  },
  {
   "cell_type": "code",
   "execution_count": 3,
   "metadata": {
    "colab": {
     "base_uri": "https://localhost:8080/",
     "height": 269
    },
    "colab_type": "code",
    "id": "TkfeyidQHrpK",
    "outputId": "69424196-4b27-4af1-ce6f-ad2967fe23ef"
   },
   "outputs": [
    {
     "data": {
      "image/png": "[encoded data removed]",
      "text/plain": [
       "<Figure size 432x288 with 1 Axes>"
      ]
     },
     "metadata": {
      "needs_background": "light"
     },
     "output_type": "display_data"
    }
   ],
   "source": [
    "# GRAPH TO CHECK X AND Y \n",
    "\n",
    "N, sigma = 200, 0.01\n",
    "X, Y = getData(N, sigma)\n",
    "\n",
    "plt.scatter(X, Y)\n",
    "plt.show()\n"
   ]
  },
  {
   "cell_type": "code",
   "execution_count": 4,
   "metadata": {
    "colab": {},
    "colab_type": "code",
    "id": "xlaF0h9tH_jW"
   },
   "outputs": [],
   "source": [
    "# FUNCTION FOR GENRATING MEAN SQUARE ERROR\n",
    "\n",
    "def getMSE(polynomial,X,Y):\n",
    "    sample_size = Y.size()[0]\n",
    "    loss = Y-polynomial(X)\n",
    "    return (loss.norm().pow(2))/sample_size"
   ]
  },
  {
   "cell_type": "code",
   "execution_count": 5,
   "metadata": {
    "colab": {},
    "colab_type": "code",
    "id": "K1uB7llSHxeD"
   },
   "outputs": [],
   "source": [
    "# FITDATA FUNCTION\n",
    "\n",
    "epochs = 10000\n",
    "alpha = 0.01\n",
    "\n",
    "def fitData(N,d,X,Y):\n",
    "    theta_dist = torch.distributions.normal.Normal(0, 0.001)\n",
    "    theta = torch.nn.Parameter(theta_dist.sample(torch.Size([d+1,1])))\n",
    "    x_train = torch.cat([X ** i for i in range(0, d+1)], 1) \n",
    "    y_train = Y\n",
    "    theta_grad_mask = torch.ones(torch.Size([d+1,1])) \n",
    "    theta_grad_mask[0] = 0\n",
    "    \n",
    "    itr_history = []\n",
    "    mse_history = []\n",
    "    \n",
    "    def polynomial(X_array):\n",
    "        return X_array.mm(theta)\n",
    "    for epoch in range(0,epochs):\n",
    "        mse = getMSE(polynomial, x_train, y_train)                                 \n",
    "        mse.backward(retain_graph=True)\n",
    "        weight_norm = theta.norm().pow(2)\n",
    "        theta.data.sub_(alpha*theta.grad.data) \n",
    "        theta.grad.data.zero_()\n",
    "        if lamb > 0.0 :\n",
    "            weight_norm.backward(retain_graph=True)     \n",
    "            theta.data.sub_(alpha*lamb*theta_grad_mask*theta.grad.data)\n",
    "            theta.grad.data.zero_() \n",
    "        \n",
    "        # saving history theta iteration\n",
    "        itr_history.append(epoch)\n",
    "        mse_history.append(mse.detach().numpy())\n",
    "        \n",
    "    Ein = getMSE(polynomial, x_train, y_train)\n",
    "    X_test,Y_test=getData(2000,sigma)\n",
    "    x_test = torch.cat([X_test ** i for i in range(0, d+1)], 1)\n",
    "    Eout = getMSE(polynomial, x_test, Y_test)\n",
    "\n",
    "    return polynomial, theta,Ein ,Eout ,[itr_history, mse_history] "
   ]
  },
  {
   "cell_type": "code",
   "execution_count": 6,
   "metadata": {
    "colab": {},
    "colab_type": "code",
    "id": "eQ6d83XVIM0k"
   },
   "outputs": [],
   "source": [
    "# EXPERIMENT FUNCTION\n",
    "\n",
    "def experiment(N, d, sigma):\n",
    "    M_trails   = 50\n",
    "    E_in_bar  = 0.0\n",
    "    E_out_bar = 0.0\n",
    "    avg_theta = torch.zeros(d+1,1)\n",
    "    for trial in range(0,M_trails):\n",
    "        X, Y = getData(N, sigma)\n",
    "        polynomial,theta,e_in,e_out,plot_data = fitData(N,d,X,Y)\n",
    "        avg_theta   += theta\n",
    "        E_in_bar += e_in       \n",
    "        E_out_bar += e_out        \n",
    "    E_in_bar = E_in_bar/M_trails\n",
    "    E_out_bar = E_out_bar/M_trails \n",
    "    avg_theta = avg_theta/M_trails \n",
    "    X, Y = getData(2000, sigma)\n",
    "    X = torch.cat([X ** i for i in range(0, d+1)], 1)\n",
    "    Y_pred = X.mm(avg_theta) \n",
    "    E_bias =(Y_pred - Y).norm()**2/N\n",
    "    return E_in_bar.detach().numpy(), E_out_bar.detach().numpy(), E_bias.detach().numpy()"
   ]
  },
  {
   "cell_type": "code",
   "execution_count": 7,
   "metadata": {
    "colab": {},
    "colab_type": "code",
    "id": "Do_dlrq6RHCa"
   },
   "outputs": [],
   "source": [
    "# FUNCTION FORGENERATING GRAPHS\n",
    "\n",
    "def generate_graph(N,D,S):\n",
    "    i = 0\n",
    "    combo = len(N)*len(D)*len(S)\n",
    "    E_in_bar_arr = [0]*combo\n",
    "    E_out_bar_arr =[0]*combo\n",
    "    E_bias_arr = [0]*combo\n",
    "\n",
    "    for n in N:\n",
    "        for d in D:\n",
    "            for s in S:\n",
    "                E_in_bar, E_out_bar, E_bias = experiment(n,d,s)\n",
    "            \n",
    "                E_in_bar_arr[i] = E_in_bar\n",
    "                E_out_bar_arr[i] = E_out_bar\n",
    "                E_bias_arr[i] = E_bias\n",
    "                i += 1\n",
    "    return E_in_bar_arr, E_out_bar_arr, E_bias_arr  \n",
    "  \n",
    "  \n"
   ]
  },
  {
   "cell_type": "code",
   "execution_count": 8,
   "metadata": {
    "colab": {
     "base_uri": "https://localhost:8080/",
     "height": 283
    },
    "colab_type": "code",
    "id": "l3AAtEJ8RWY5",
    "outputId": "01110b61-1209-4625-d2b4-87d7bef95357"
   },
   "outputs": [
    {
     "data": {
      "image/png": "[encoded data removed]",
      "text/plain": [
       "<Figure size 432x288 with 1 Axes>"
      ]
     },
     "metadata": {
      "needs_background": "light"
     },
     "output_type": "display_data"
    }
   ],
   "source": [
    "# GRAPH FOR ALL THE SAMPLE SIZES WITHOUT WEIGHT DECAY\n",
    "\n",
    "lamb  = 0.0\n",
    "N = [2, 5, 10, 20, 50, 100, 200]\n",
    "D = [4]\n",
    "S = [0.01]\n",
    "\n",
    "E_in_bar_arr, E_out_bar_arr, E_bias_arr = generate_graph(N,D,S)\n",
    "\n",
    "plt.plot(np.array(N).reshape(len(N),1), E_in_bar_arr, label = \"E_in\")\n",
    "plt.plot(np.array(N).reshape(len(N),1), E_out_bar_arr, label = \"E_out\")\n",
    "plt.plot(np.array(N).reshape(len(N),1), E_bias_arr, label = \"E_bias\")\n",
    "plt.ylim((-0.1, 5))\n",
    "plt.xlabel(\"Sample size(N),d= 4, s = 0.01\")\n",
    "plt.legend(loc=\"upper right\")\n",
    "plt.show()\n"
   ]
  },
  {
   "cell_type": "code",
   "execution_count": 9,
   "metadata": {
    "colab": {},
    "colab_type": "code",
    "id": "dyk5vGE9RpCM"
   },
   "outputs": [
    {
     "data": {
      "image/png": "[encoded data removed]",
      "text/plain": [
       "<Figure size 432x288 with 1 Axes>"
      ]
     },
     "metadata": {
      "needs_background": "light"
     },
     "output_type": "display_data"
    }
   ],
   "source": [
    "#GRAPH FOR ALL THE COMPLEXITIES WITHOUT WEIGHT DECAY\n",
    "\n",
    "lamb  = 0.0\n",
    "N = [100]\n",
    "D = [1,2,3,4,5,6,7,8,9,10,11,12,13,14,15,16,17,18,19,20]\n",
    "S = [0.01]\n",
    "\n",
    "E_in_bar_arr, E_out_bar_arr, E_bias_arr = generate_graph(N,D,S)\n",
    "\n",
    "#%%\n",
    "plt.plot(np.array(D).reshape(len(D),1), E_in_bar_arr, label = \"E_in\")\n",
    "plt.plot(np.array(D).reshape(len(D),1), E_out_bar_arr, label = \"E_out\")\n",
    "plt.plot(np.array(D).reshape(len(D),1), E_bias_arr, label = \"E_bias\")\n",
    "#plt.ylim((-0.1, 5))\n",
    "plt.xlabel(\"Complexity(D),N = 100, s = 0.01\")\n",
    "plt.legend(loc=\"upper right\")\n",
    "plt.show()"
   ]
  },
  {
   "cell_type": "code",
   "execution_count": 0,
   "metadata": {
    "colab": {},
    "colab_type": "code",
    "id": "f4WcNImiihb3"
   },
   "outputs": [],
   "source": [
    "# GRAPH FOR ALL THE NOISE VALUES WITHOUT WEIGHT DECAY\n",
    "\n",
    "lamb  = 0.5\n",
    "N = [100]\n",
    "D = [4]\n",
    "S = [0.01, 0.1, 1.0]\n",
    "\n",
    "E_in_bar_arr, E_out_bar_arr, E_bias_arr = generate_graph(N,D,S)\n",
    "\n",
    "plt.plot(np.array(S).reshape(len(S),1), E_in_bar_arr, label = \"E_in\")\n",
    "plt.plot(np.array(S).reshape(len(S),1), E_out_bar_arr, label = \"E_out\")\n",
    "plt.plot(np.array(S).reshape(len(S),1), E_bias_arr, label = \"E_bias\")\n",
    "plt.xlabel(\"Noise(Sigma), N = 100, d = 4 \")\n",
    "plt.legend(loc=\"upper right\")\n",
    "plt.show()"
   ]
  },
  {
   "cell_type": "code",
   "execution_count": 0,
   "metadata": {
    "colab": {},
    "colab_type": "code",
    "id": "ADtVZ9GWimWC"
   },
   "outputs": [],
   "source": [
    "# WITHOUT WEIGHT DECAY\n",
    "\n",
    "lamb  =0.0\n",
    "\n",
    "N = [2, 5, 10, 20, 50, 100, 200]\n",
    "D = [1,2,3,4,5,6,7,8,9,10,11,12,13,14,15,16,17,18,19,20]\n",
    "S = [0.01, 0.1, 1.0]\n",
    "\n",
    "all_combinatons = torch.Tensor(len(N)*len(D)*len(S),3)\n",
    "\n",
    "\n",
    "i = 0;\n",
    "for n in N:\n",
    "    for d in D:\n",
    "        for s in S:\n",
    "            all_combinatons[i] = experiment(n,d,s)\n",
    "            i = i + 1"
   ]
  },
  {
   "cell_type": "code",
   "execution_count": 13,
   "metadata": {
    "colab": {
     "base_uri": "https://localhost:8080/",
     "height": 286
    },
    "colab_type": "code",
    "id": "hhru46xJIJtD",
    "outputId": "64a64c28-eeba-4435-da74-62faa6cb2268"
   },
   "outputs": [
    {
     "name": "stdout",
     "output_type": "stream",
     "text": [
      "Loss vs iterations:\n"
     ]
    },
    {
     "data": {
      "image/png": "[encoded data removed]",
      "text/plain": [
       "<Figure size 432x288 with 1 Axes>"
      ]
     },
     "metadata": {
      "needs_background": "light"
     },
     "output_type": "display_data"
    }
   ],
   "source": [
    "# LOSS OVER ITERATION GRAPH WITHOUT WEIGHT DECAY\n",
    "\n",
    "lamb = 0.0\n",
    "\n",
    "d = 10\n",
    "\n",
    "polynomial,theta,e_in,e_out,plot_data = fitData(N,d,X,Y)\n",
    "\n",
    "\n",
    "x, y = plot_data\n",
    "print(\"Loss vs iterations:\")\n",
    "plt.scatter(x, y)\n",
    "plt.xlabel(\"Number of iterations\")\n",
    "plt.ylabel(\"Loss history\")\n",
    "plt.show()"
   ]
  },
  {
   "cell_type": "code",
   "execution_count": 11,
   "metadata": {
    "colab": {},
    "colab_type": "code",
    "id": "YkJMi4eIzDCg"
   },
   "outputs": [
    {
     "name": "stdout",
     "output_type": "stream",
     "text": [
      "0.096544296 0.1003519 0.9971384\n",
      "1.0572062 1.1079872 11.173285\n",
      "0.08683858 0.09080243 0.8685065\n"
     ]
    }
   ],
   "source": [
    "# EIN ,EOUT,EBIAS for different values of sigma\n",
    "\n",
    "################################################\n",
    "# for all the values of sigma\n",
    "\n",
    "d = 9\n",
    "sigma = 0.1\n",
    "N = 200\n",
    "\n",
    "\n",
    "E_in,E_out,E_bias = experiment(N, d, sigma)   \n",
    "   \n",
    "\n",
    "print(E_in,E_out,E_bias)\n",
    "\n",
    "################################################\n",
    "d = 9\n",
    "sigma = 1 \n",
    "N = 200\n",
    "\n",
    "E_in,E_out,E_bias = experiment(N, d, sigma)   \n",
    "   \n",
    "\n",
    "print(E_in,E_out,E_bias)\n",
    "\n",
    "################################################\n",
    "d = 9\n",
    "sigma = 0.01 \n",
    "N = 200\n",
    "\n",
    "E_in,E_out,E_bias = experiment(N, d, sigma)   \n",
    "   \n",
    "\n",
    "print(E_in,E_out,E_bias)\n",
    "\n"
   ]
  },
  {
   "cell_type": "code",
   "execution_count": 0,
   "metadata": {
    "colab": {},
    "colab_type": "code",
    "id": "Mkt599B-5P4C"
   },
   "outputs": [],
   "source": [
    "# GENERATING ERRORS FOR ALL THE COMPLEXITIES\n",
    "\n",
    "D = [0,1,2,3,4,5,6,7,8,9,10,11,12,13,14,15,16,17,18,19,20]\n",
    "sigma = 0.1 \n",
    "N = 200\n",
    "\n",
    "i = 0\n",
    "for d in D:\n",
    "\n",
    "      E_in,E_out,E_bias = experiment(N, d, sigma)   \n",
    "      i=i+1\n",
    "      print(E_in,E_out,E_bias)\n",
    "\n",
    "\n"
   ]
  },
  {
   "cell_type": "code",
   "execution_count": 0,
   "metadata": {
    "colab": {},
    "colab_type": "code",
    "id": "-nra128f7F2N"
   },
   "outputs": [],
   "source": [
    "# GENERATING ERRORS FOR ALL THE COMBINATIONS OF SAMPLE SIZE\n",
    "d = 6\n",
    "sigma =0.1\n",
    "N = [2, 5, 10, 20, 50, 100, 200]\n",
    "\n",
    "i = 0\n",
    "for n in N:\n",
    "\n",
    "      E_in,E_out,E_bias = experiment(n, d, sigma)   \n",
    "      i=i+1\n",
    "      print(E_in,E_out,E_bias)\n"
   ]
  },
  {
   "cell_type": "code",
   "execution_count": 0,
   "metadata": {
    "colab": {},
    "colab_type": "code",
    "id": "1Ho76uowIV8f"
   },
   "outputs": [],
   "source": [
    "# FUNCTION WITH WEIGHT DECAY\n",
    "\n",
    "lamb = 0.05\n",
    "\n",
    "N = [2, 5, 10, 20, 50, 100, 200]\n",
    "D = [0,1,2,3,4,5,6,7,8,9,10,11,12,13,14,15,16,17,18,19,20]\n",
    "S = [0.01, 0.1, 1.0]\n",
    "\n",
    "weight_decay = torch.Tensor(len(N)*len(D)*len(S),3)\n",
    "i = 0;\n",
    "for n in N:\n",
    "    for d in D:\n",
    "        for s in S:\n",
    "          \n",
    "            weight_decay[i] = experiment(n,d,s)\n",
    "            \n",
    "            i = i + 1"
   ]
  },
  {
   "cell_type": "code",
   "execution_count": 12,
   "metadata": {
    "colab": {
     "base_uri": "https://localhost:8080/",
     "height": 306
    },
    "colab_type": "code",
    "id": "xlOjA6mgJH4x",
    "outputId": "e2a6f24e-808c-47f3-b5f9-b60172d57ab8"
   },
   "outputs": [
    {
     "name": "stdout",
     "output_type": "stream",
     "text": [
      "Loss vs iterations:\n"
     ]
    },
    {
     "data": {
      "image/png": "[encoded data removed]",
      "text/plain": [
       "<Figure size 432x288 with 1 Axes>"
      ]
     },
     "metadata": {
      "needs_background": "light"
     },
     "output_type": "display_data"
    }
   ],
   "source": [
    "# LOSS OVER ITERATIONS OVER WEIGHT DECAY\n",
    "\n",
    "polynomial,theta,e_in,e_out,plot_data = fitData(N,d,X,Y)\n",
    "\n",
    "\n",
    "x, y = plot_data\n",
    "print(\"Loss vs iterations:\")\n",
    "plt.xlabel(\"Number of iterations\")\n",
    "plt.ylabel(\"Loss history\")\n",
    "plt.scatter(x, y)\n",
    "plt.show()"
   ]
  },
  {
   "cell_type": "code",
   "execution_count": 0,
   "metadata": {
    "colab": {},
    "colab_type": "code",
    "id": "0N9-SvcFSvlw"
   },
   "outputs": [],
   "source": [
    "# GRAPH FOR ALL THE SAMPLE SIZES WITH WEIGHT DECAY\n",
    "\n",
    "lamb  = 0.5\n",
    "N = [2, 5, 10, 20, 50, 100, 200]\n",
    "D = [4]\n",
    "S = [0.01]\n",
    "\n",
    "E_in_bar_arr, E_out_bar_arr, E_bias_arr = generate_graph(N,D,S)\n",
    "\n",
    "plt.plot(np.array(N).reshape(len(N),1), E_in_bar_arr, label = \"E_in\")\n",
    "plt.plot(np.array(N).reshape(len(N),1), E_out_bar_arr, label = \"E_out\")\n",
    "plt.plot(np.array(N).reshape(len(N),1), E_bias_arr, label = \"E_bias\")\n",
    "plt.ylim((-0.1, 5))\n",
    "plt.xlabel(\"Sample size(N),d= 4, s = 0.01\")\n",
    "plt.legend(loc=\"upper right\")\n",
    "plt.show()\n"
   ]
  },
  {
   "cell_type": "code",
   "execution_count": 0,
   "metadata": {
    "colab": {},
    "colab_type": "code",
    "id": "2yE0Rb-5S1Tv"
   },
   "outputs": [],
   "source": [
    "#GRAPH FOR ALL THE COMPLEXITIES WITH WEIGHT DECAY\n",
    "\n",
    "lamb  = 0.5\n",
    "N = [100]\n",
    "D = [1,2,3,4,5,6,7,8,9,10,11,12,13,14,15,16,17,18,19,20]\n",
    "S = [0.01]\n",
    "\n",
    "E_in_bar_arr, E_out_bar_arr, E_bias_arr = generate_graph(N,D,S)\n",
    "\n",
    "plt.plot(np.array(D).reshape(len(D),1), E_in_bar_arr, label = \"E_in\")\n",
    "plt.plot(np.array(D).reshape(len(D),1), E_out_bar_arr, label = \"E_out\")\n",
    "plt.plot(np.array(D).reshape(len(D),1), E_bias_arr, label = \"E_bias\")\n",
    "#plt.ylim((-0.1, 5))\n",
    "plt.xlabel(\"Complexity(D),N = 100, s = 0.01\")\n",
    "plt.legend(loc=\"upper right\")\n",
    "plt.show()"
   ]
  },
  {
   "cell_type": "code",
   "execution_count": 0,
   "metadata": {
    "colab": {},
    "colab_type": "code",
    "id": "RVIaooSDTAcQ"
   },
   "outputs": [],
   "source": [
    "# GRAPH FOR ALL THE NOISE VALUES WITH WEIGHT DECAY\n",
    "\n",
    "lamb  = 0.5\n",
    "N = [100]\n",
    "D = [4]\n",
    "S = [0.01, 0.1, 1.0]\n",
    "\n",
    "E_in_bar_arr, E_out_bar_arr, E_bias_arr = generate_graph(N,D,S)\n",
    "\n",
    "plt.plot(np.array(S).reshape(len(S),1), E_in_bar_arr, label = \"E_in\")\n",
    "plt.plot(np.array(S).reshape(len(S),1), E_out_bar_arr, label = \"E_out\")\n",
    "plt.plot(np.array(S).reshape(len(S),1), E_bias_arr, label = \"E_bias\")\n",
    "plt.xlabel(\"Noise(Sigma), N = 100, d = 4 \")\n",
    "plt.legend(loc=\"upper right\")\n",
    "plt.show()"
   ]
  }
 ],
 "metadata": {
  "accelerator": "GPU",
  "colab": {
   "collapsed_sections": [],
   "name": "ASSIGNMENT 1",
   "provenance": []
  },
  "kernelspec": {
   "display_name": "Python 3",
   "language": "python",
   "name": "python3"
  },
  "language_info": {
   "codemirror_mode": {
    "name": "ipython",
    "version": 3
   },
   "file_extension": ".py",
   "mimetype": "text/x-python",
   "name": "python",
   "nbconvert_exporter": "python",
   "pygments_lexer": "ipython3",
   "version": "3.6.8"
  }
 },
 "nbformat": 4,
 "nbformat_minor": 1
}
